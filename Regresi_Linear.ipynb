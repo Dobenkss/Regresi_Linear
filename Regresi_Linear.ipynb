{
  "nbformat": 4,
  "nbformat_minor": 0,
  "metadata": {
    "colab": {
      "provenance": [],
      "include_colab_link": true
    },
    "kernelspec": {
      "name": "python3",
      "display_name": "Python 3"
    },
    "language_info": {
      "name": "python"
    }
  },
  "cells": [
    {
      "cell_type": "markdown",
      "metadata": {
        "id": "view-in-github",
        "colab_type": "text"
      },
      "source": [
        "<a href=\"https://colab.research.google.com/github/Dobenkss/Regresi_Linear/blob/main/Regresi_Linear.ipynb\" target=\"_parent\"><img src=\"https://colab.research.google.com/assets/colab-badge.svg\" alt=\"Open In Colab\"/></a>"
      ]
    },
    {
      "cell_type": "markdown",
      "source": [
        "Nama : Abhipraya Rasendriya Atma Ardany <br>\n",
        "Nim : 24.21.1587 <br>\n",
        "Link Collab : https://colab.research.google.com/drive/1GBF81DUZ5XYkSIcVqX3l8eCfUDxJTnxe?usp=sharing"
      ],
      "metadata": {
        "id": "zhkCL1TNWZPA"
      }
    },
    {
      "cell_type": "code",
      "execution_count": null,
      "metadata": {
        "id": "45if7UAVQG1F"
      },
      "outputs": [],
      "source": [
        "import numpy as np\n",
        "import pandas as pd\n",
        "import matplotlib.pyplot as plt\n",
        "from sklearn.linear_model import LinearRegression"
      ]
    },
    {
      "cell_type": "markdown",
      "source": [
        "Menyiapkan Data"
      ],
      "metadata": {
        "id": "eMDb7zV6QjMJ"
      }
    },
    {
      "cell_type": "code",
      "source": [
        "# Data\n",
        "data = {\n",
        "    'Jumlah_Iklan': [1, 2, 3, 4, 5],\n",
        "    'Buku_Terjual': [5, 7, 7, 10, 16]\n",
        "}\n",
        "\n",
        "df = pd.DataFrame(data)"
      ],
      "metadata": {
        "id": "D6gQr2BIQawy"
      },
      "execution_count": null,
      "outputs": []
    },
    {
      "cell_type": "markdown",
      "source": [
        "hubungan/korelasi antara jumlah jam iklan dan buku yang terjual."
      ],
      "metadata": {
        "id": "chBpSgmHQx9h"
      }
    },
    {
      "cell_type": "code",
      "source": [
        "# Menghitung korelasi\n",
        "correlation = df['Jumlah_Iklan'].corr(df['Buku_Terjual'])\n",
        "print(f'Koefisien Korelasi: {correlation}')"
      ],
      "metadata": {
        "colab": {
          "base_uri": "https://localhost:8080/"
        },
        "id": "jPXgrIEdQ2Ia",
        "outputId": "956be14d-bca6-455e-aa73-3ab23bada4b6"
      },
      "execution_count": null,
      "outputs": [
        {
          "output_type": "stream",
          "name": "stdout",
          "text": [
            "Koefisien Korelasi: 0.9190182776172596\n"
          ]
        }
      ]
    },
    {
      "cell_type": "markdown",
      "source": [
        "persamaan regresi linier (y = a + bx), dimana b adalah kemiringan\n",
        "(slope/koefisien regresi) dan a adalah intersept/konstanta."
      ],
      "metadata": {
        "id": "x828Y0BlReox"
      }
    },
    {
      "cell_type": "code",
      "source": [
        "model = LinearRegression()\n",
        "X = df[['Jumlah_Iklan']]\n",
        "y = df['Buku_Terjual']\n",
        "model.fit(X, y)\n",
        "\n",
        "x_mean = np.mean(x)\n",
        "y_mean = np.mean(y)\n",
        "\n",
        "# Menghitung kemiringan (slope)\n",
        "b = np.sum((x - x_mean) * (y - y_mean)) / np.sum((x - x_mean) ** 2)\n",
        "\n",
        "# Menghitung intersept\n",
        "a = y_mean - b * x_mean\n",
        "\n",
        "print(f'Persamaan Regresi: y = {a} + {b}x')"
      ],
      "metadata": {
        "colab": {
          "base_uri": "https://localhost:8080/"
        },
        "id": "sIA4tZFeRIia",
        "outputId": "9ae2ad1c-d4d4-4480-a17f-383e496bfb08"
      },
      "execution_count": null,
      "outputs": [
        {
          "output_type": "stream",
          "name": "stdout",
          "text": [
            "Persamaan Regresi: y = 1.5 + 2.5x\n"
          ]
        }
      ]
    },
    {
      "cell_type": "markdown",
      "source": [
        "Prediksi berapa banyak buku yang akan terjual jika jam iklan diperpanjang menjadi 6\n",
        "jam."
      ],
      "metadata": {
        "id": "_d5762MgRZyh"
      }
    },
    {
      "cell_type": "code",
      "source": [
        "# Koefisien dari persamaan regresi\n",
        "a = 1.5  # Intersept\n",
        "b = 2.5  # Kemiringan\n",
        "\n",
        "# Jam iklan baru\n",
        "jam_iklan_baru = 6\n",
        "\n",
        "# Prediksi jumlah buku terjual\n",
        "prediksi_buku_terjual = a + b * jam_iklan_baru\n",
        "print(f'Prediksi Buku Terjual untuk {jam_iklan_baru} jam iklan: {prediksi_buku_terjual}')"
      ],
      "metadata": {
        "colab": {
          "base_uri": "https://localhost:8080/"
        },
        "id": "86OFzNypRlV5",
        "outputId": "f362b774-3991-4891-e0d9-2de71fa331c6"
      },
      "execution_count": null,
      "outputs": [
        {
          "output_type": "stream",
          "name": "stdout",
          "text": [
            "Prediksi Buku Terjual untuk 6 jam iklan: 16.5\n"
          ]
        }
      ]
    },
    {
      "cell_type": "markdown",
      "source": [
        "Visualisasikan yang menampilkan garis data aktual dan garis regresi"
      ],
      "metadata": {
        "id": "FeZuGNFMR595"
      }
    },
    {
      "cell_type": "code",
      "source": [
        "plt.scatter(df['Jumlah_Iklan'], df['Buku_Terjual'], color='blue', label='Data Aktual')\n",
        "plt.plot(df['Jumlah_Iklan'], model.predict(X), color='red', label='Garis Regresi')\n",
        "plt.scatter(jam_iklan_baru, prediksi_buku_terjual, color='green', label='Prediksi (6 jam)', s=100)\n",
        "plt.title('Regresi Linier Jumlah Iklan vs Buku Terjual')\n",
        "plt.xlabel('Jumlah Iklan (jam)')\n",
        "plt.ylabel('Buku Terjual')\n",
        "plt.legend()\n",
        "plt.grid()\n",
        "plt.show()"
      ],
      "metadata": {
        "colab": {
          "base_uri": "https://localhost:8080/",
          "height": 472
        },
        "id": "5IUg_rRVSCE5",
        "outputId": "4e074761-415a-4a63-cb16-830858cf3f11"
      },
      "execution_count": null,
      "outputs": [
        {
          "output_type": "display_data",
          "data": {
            "text/plain": [
              "<Figure size 640x480 with 1 Axes>"
            ],
            "image/png": "[encoded data removed]"
          },
          "metadata": {}
        }
      ]
    }
  ]
}